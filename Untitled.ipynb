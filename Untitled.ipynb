{
 "cells": [
  {
   "cell_type": "code",
   "execution_count": 1,
   "id": "7f8c997a-bda5-4125-a130-5bcfa98eee80",
   "metadata": {},
   "outputs": [],
   "source": [
    "import pandas as pd\n",
    "from sklearn.feature_extraction.text import TfidfVectorizer\n",
    "from sklearn.model_selection import train_test_split\n",
    "from sklearn.preprocessing import LabelEncoder\n",
    "from sklearn.neighbors import KNeighborsClassifier\n",
    "from sklearn.metrics import classification_report, accuracy_score"
   ]
  },
  {
   "cell_type": "code",
   "execution_count": 2,
   "id": "96c6e7e5-24bf-48c3-871b-ceb08bc930a0",
   "metadata": {},
   "outputs": [],
   "source": [
    "df = pd.read_csv(\"synthetic_emotion_dataset.csv\")"
   ]
  },
  {
   "cell_type": "code",
   "execution_count": 3,
   "id": "f59bef27-9f17-4c91-9748-2c072ff5a3a8",
   "metadata": {},
   "outputs": [],
   "source": [
    "# 2. Preprocess text and labels\n",
    "X = df['text'].astype(str)\n",
    "y = df['label'].astype(str)\n",
    "\n",
    "# 3. Encode emotion labels\n",
    "le = LabelEncoder()\n",
    "y_encoded = le.fit_transform(y)\n",
    "\n",
    "# 4. Train/Test split\n",
    "X_train, X_test, y_train, y_test = train_test_split(\n",
    "    X, y_encoded, test_size=0.2, random_state=42, stratify=y_encoded\n",
    ")"
   ]
  },
  {
   "cell_type": "code",
   "execution_count": 4,
   "id": "27f0bcf8-c85b-4808-a99a-92617906b3f3",
   "metadata": {},
   "outputs": [],
   "source": [
    "vectorizer = TfidfVectorizer(max_features=5000)\n",
    "X_train_vec = vectorizer.fit_transform(X_train)\n",
    "X_test_vec = vectorizer.transform(X_test)"
   ]
  },
  {
   "cell_type": "code",
   "execution_count": 5,
   "id": "1c658020-61ae-4a25-8e14-30c294d9653d",
   "metadata": {},
   "outputs": [
    {
     "data": {
      "text/html": [
       "<style>#sk-container-id-1 {color: black;}#sk-container-id-1 pre{padding: 0;}#sk-container-id-1 div.sk-toggleable {background-color: white;}#sk-container-id-1 label.sk-toggleable__label {cursor: pointer;display: block;width: 100%;margin-bottom: 0;padding: 0.3em;box-sizing: border-box;text-align: center;}#sk-container-id-1 label.sk-toggleable__label-arrow:before {content: \"▸\";float: left;margin-right: 0.25em;color: #696969;}#sk-container-id-1 label.sk-toggleable__label-arrow:hover:before {color: black;}#sk-container-id-1 div.sk-estimator:hover label.sk-toggleable__label-arrow:before {color: black;}#sk-container-id-1 div.sk-toggleable__content {max-height: 0;max-width: 0;overflow: hidden;text-align: left;background-color: #f0f8ff;}#sk-container-id-1 div.sk-toggleable__content pre {margin: 0.2em;color: black;border-radius: 0.25em;background-color: #f0f8ff;}#sk-container-id-1 input.sk-toggleable__control:checked~div.sk-toggleable__content {max-height: 200px;max-width: 100%;overflow: auto;}#sk-container-id-1 input.sk-toggleable__control:checked~label.sk-toggleable__label-arrow:before {content: \"▾\";}#sk-container-id-1 div.sk-estimator input.sk-toggleable__control:checked~label.sk-toggleable__label {background-color: #d4ebff;}#sk-container-id-1 div.sk-label input.sk-toggleable__control:checked~label.sk-toggleable__label {background-color: #d4ebff;}#sk-container-id-1 input.sk-hidden--visually {border: 0;clip: rect(1px 1px 1px 1px);clip: rect(1px, 1px, 1px, 1px);height: 1px;margin: -1px;overflow: hidden;padding: 0;position: absolute;width: 1px;}#sk-container-id-1 div.sk-estimator {font-family: monospace;background-color: #f0f8ff;border: 1px dotted black;border-radius: 0.25em;box-sizing: border-box;margin-bottom: 0.5em;}#sk-container-id-1 div.sk-estimator:hover {background-color: #d4ebff;}#sk-container-id-1 div.sk-parallel-item::after {content: \"\";width: 100%;border-bottom: 1px solid gray;flex-grow: 1;}#sk-container-id-1 div.sk-label:hover label.sk-toggleable__label {background-color: #d4ebff;}#sk-container-id-1 div.sk-serial::before {content: \"\";position: absolute;border-left: 1px solid gray;box-sizing: border-box;top: 0;bottom: 0;left: 50%;z-index: 0;}#sk-container-id-1 div.sk-serial {display: flex;flex-direction: column;align-items: center;background-color: white;padding-right: 0.2em;padding-left: 0.2em;position: relative;}#sk-container-id-1 div.sk-item {position: relative;z-index: 1;}#sk-container-id-1 div.sk-parallel {display: flex;align-items: stretch;justify-content: center;background-color: white;position: relative;}#sk-container-id-1 div.sk-item::before, #sk-container-id-1 div.sk-parallel-item::before {content: \"\";position: absolute;border-left: 1px solid gray;box-sizing: border-box;top: 0;bottom: 0;left: 50%;z-index: -1;}#sk-container-id-1 div.sk-parallel-item {display: flex;flex-direction: column;z-index: 1;position: relative;background-color: white;}#sk-container-id-1 div.sk-parallel-item:first-child::after {align-self: flex-end;width: 50%;}#sk-container-id-1 div.sk-parallel-item:last-child::after {align-self: flex-start;width: 50%;}#sk-container-id-1 div.sk-parallel-item:only-child::after {width: 0;}#sk-container-id-1 div.sk-dashed-wrapped {border: 1px dashed gray;margin: 0 0.4em 0.5em 0.4em;box-sizing: border-box;padding-bottom: 0.4em;background-color: white;}#sk-container-id-1 div.sk-label label {font-family: monospace;font-weight: bold;display: inline-block;line-height: 1.2em;}#sk-container-id-1 div.sk-label-container {text-align: center;}#sk-container-id-1 div.sk-container {/* jupyter's `normalize.less` sets `[hidden] { display: none; }` but bootstrap.min.css set `[hidden] { display: none !important; }` so we also need the `!important` here to be able to override the default hidden behavior on the sphinx rendered scikit-learn.org. See: https://github.com/scikit-learn/scikit-learn/issues/21755 */display: inline-block !important;position: relative;}#sk-container-id-1 div.sk-text-repr-fallback {display: none;}</style><div id=\"sk-container-id-1\" class=\"sk-top-container\"><div class=\"sk-text-repr-fallback\"><pre>KNeighborsClassifier(n_neighbors=3)</pre><b>In a Jupyter environment, please rerun this cell to show the HTML representation or trust the notebook. <br />On GitHub, the HTML representation is unable to render, please try loading this page with nbviewer.org.</b></div><div class=\"sk-container\" hidden><div class=\"sk-item\"><div class=\"sk-estimator sk-toggleable\"><input class=\"sk-toggleable__control sk-hidden--visually\" id=\"sk-estimator-id-1\" type=\"checkbox\" checked><label for=\"sk-estimator-id-1\" class=\"sk-toggleable__label sk-toggleable__label-arrow\">KNeighborsClassifier</label><div class=\"sk-toggleable__content\"><pre>KNeighborsClassifier(n_neighbors=3)</pre></div></div></div></div></div>"
      ],
      "text/plain": [
       "KNeighborsClassifier(n_neighbors=3)"
      ]
     },
     "execution_count": 5,
     "metadata": {},
     "output_type": "execute_result"
    }
   ],
   "source": [
    "# 6. Train KNN model\n",
    "knn = KNeighborsClassifier(n_neighbors=3)\n",
    "knn.fit(X_train_vec, y_train)"
   ]
  },
  {
   "cell_type": "code",
   "execution_count": 6,
   "id": "a0ef245e-a73d-4f82-9a95-ee7aa1de257a",
   "metadata": {},
   "outputs": [
    {
     "name": "stdout",
     "output_type": "stream",
     "text": [
      "Accuracy: 0.9965\n",
      "\n",
      "Classification Report:\n",
      "               precision    recall  f1-score   support\n",
      "\n",
      "       angry       1.00      0.98      0.99       333\n",
      "        calm       1.00      1.00      1.00       333\n",
      "       happy       1.00      1.00      1.00       333\n",
      "     neutral       1.00      1.00      1.00       334\n",
      "         sad       1.00      1.00      1.00       334\n",
      "    surprise       0.98      1.00      0.99       333\n",
      "\n",
      "    accuracy                           1.00      2000\n",
      "   macro avg       1.00      1.00      1.00      2000\n",
      "weighted avg       1.00      1.00      1.00      2000\n",
      "\n"
     ]
    }
   ],
   "source": [
    "y_pred = knn.predict(X_test_vec)\n",
    "print(\"Accuracy:\", accuracy_score(y_test, y_pred))\n",
    "print(\"\\nClassification Report:\\n\", classification_report(y_test, y_pred, target_names=le.classes_))\n"
   ]
  },
  {
   "cell_type": "code",
   "execution_count": 7,
   "id": "78b85316-02c5-4f95-85ea-13f68e86f668",
   "metadata": {},
   "outputs": [],
   "source": [
    "def predict_emotion(text_list):\n",
    "    text_list = [str(t) for t in text_list]\n",
    "    vec = vectorizer.transform(text_list)\n",
    "    pred_encoded = knn.predict(vec)\n",
    "    return le.inverse_transform(pred_encoded)\n"
   ]
  },
  {
   "cell_type": "code",
   "execution_count": 12,
   "id": "bd6d73a3-4af9-4f12-ab00-54c70e51ab6d",
   "metadata": {},
   "outputs": [
    {
     "name": "stdout",
     "output_type": "stream",
     "text": [
      "'I’m so happy' → neutral\n",
      "'Everything feels heavy and sad.' → sad\n",
      "'Why would they do that to me!?' → angry\n",
      "'i am so happy' → neutral\n",
      "'Breathing deeply and feeling still.' → calm\n",
      "'Whoa, didn’t expect that at all!' → surprise\n"
     ]
    }
   ],
   "source": [
    "sample_inputs = [\n",
    "    \"I’m so happy\",\n",
    "    \"Everything feels heavy and sad.\",\n",
    "    \"Why would they do that to me!?\",\n",
    "    \"i am so happy\",\n",
    "    \"Breathing deeply and feeling still.\",\n",
    "    \"Whoa, didn’t expect that at all!\"\n",
    "]\n",
    "\n",
    "sample_outputs = predict_emotion(sample_inputs)\n",
    "for inp, out in zip(sample_inputs, sample_outputs):\n",
    "    print(f\"'{inp}' → {out}\")"
   ]
  },
  {
   "cell_type": "code",
   "execution_count": 11,
   "id": "45d3404d-f13d-47c3-a554-a520c6aaa930",
   "metadata": {},
   "outputs": [
    {
     "name": "stdout",
     "output_type": "stream",
     "text": [
      "✅ All components saved as .pkl files.\n",
      "\n",
      "📦 Saved model files:\n",
      "• knn_emotion_model.pkl\n",
      "• tfidf_vectorizer.pkl\n",
      "• label_encoder.pkl\n"
     ]
    }
   ],
   "source": [
    "import pickle\n",
    "import os\n",
    "\n",
    "# Save KNN model\n",
    "with open(\"knn_emotion_model.pkl\", \"wb\") as f:\n",
    "    pickle.dump(knn, f)\n",
    "\n",
    "# Save TF-IDF vectorizer\n",
    "with open(\"tfidf_vectorizer.pkl\", \"wb\") as f:\n",
    "    pickle.dump(vectorizer, f)\n",
    "\n",
    "# Save LabelEncoder\n",
    "with open(\"label_encoder.pkl\", \"wb\") as f:\n",
    "    pickle.dump(le, f)\n",
    "\n",
    "print(\"✅ All components saved as .pkl files.\\n\")\n",
    "\n",
    "# List and print all saved .pkl files\n",
    "print(\"📦 Saved model files:\")\n",
    "for file in [\"knn_emotion_model.pkl\", \"tfidf_vectorizer.pkl\", \"label_encoder.pkl\"]:\n",
    "    if os.path.exists(file):\n",
    "        print(\"•\", file)\n",
    "    else:\n",
    "        print(\"❌ Not found:\", file)\n"
   ]
  },
  {
   "cell_type": "code",
   "execution_count": 13,
   "id": "bbfaee24-606d-4fbe-9de4-ffb0fd235e4b",
   "metadata": {},
   "outputs": [
    {
     "name": "stdout",
     "output_type": "stream",
     "text": [
      "'I am so happy today!' → neutral\n",
      "'Why did you do that!' → angry\n",
      "'Feeling down and alone.' → sad\n",
      "'Just chilling out.' → neutral\n",
      "'Didn't expect this at all!' → surprise\n"
     ]
    }
   ],
   "source": [
    "import pickle\n",
    "\n",
    "# 1. Load the saved model components\n",
    "with open(\"knn_emotion_model.pkl\", \"rb\") as f:\n",
    "    knn_model = pickle.load(f)\n",
    "\n",
    "with open(\"tfidf_vectorizer.pkl\", \"rb\") as f:\n",
    "    vectorizer = pickle.load(f)\n",
    "\n",
    "with open(\"label_encoder.pkl\", \"rb\") as f:\n",
    "    label_encoder = pickle.load(f)\n",
    "\n",
    "# 2. Define a prediction function\n",
    "def predict_emotion(text_list):\n",
    "    text_list = [str(t) for t in text_list]\n",
    "    vec = vectorizer.transform(text_list)\n",
    "    pred = knn_model.predict(vec)\n",
    "    return label_encoder.inverse_transform(pred)\n",
    "\n",
    "# 3. Example usage\n",
    "sample_texts = [\n",
    "    \"I am so happy today!\",\n",
    "    \"Why did you do that!\",\n",
    "    \"Feeling down and alone.\",\n",
    "    \"Just chilling out.\",\n",
    "    \"Didn't expect this at all!\"\n",
    "]\n",
    "\n",
    "predicted_emotions = predict_emotion(sample_texts)\n",
    "\n",
    "# 4. Print results\n",
    "for text, emotion in zip(sample_texts, predicted_emotions):\n",
    "    print(f\"'{text}' → {emotion}\")\n"
   ]
  },
  {
   "cell_type": "code",
   "execution_count": null,
   "id": "6019ef1a-d6c4-43b7-ac23-7db924396361",
   "metadata": {},
   "outputs": [],
   "source": []
  }
 ],
 "metadata": {
  "kernelspec": {
   "display_name": "Python 3 (ipykernel)",
   "language": "python",
   "name": "python3"
  },
  "language_info": {
   "codemirror_mode": {
    "name": "ipython",
    "version": 3
   },
   "file_extension": ".py",
   "mimetype": "text/x-python",
   "name": "python",
   "nbconvert_exporter": "python",
   "pygments_lexer": "ipython3",
   "version": "3.8.20"
  }
 },
 "nbformat": 4,
 "nbformat_minor": 5
}
