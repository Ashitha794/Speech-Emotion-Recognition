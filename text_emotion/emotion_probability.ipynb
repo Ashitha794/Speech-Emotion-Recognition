{
 "cells": [
  {
   "cell_type": "code",
   "execution_count": null,
   "id": "c0fc3370-85e0-4371-b7db-a12cf517d12e",
   "metadata": {},
   "outputs": [],
   "source": [
    "from collections import Counter\n",
    "import joblib\n",
    "import librosa\n",
    "import numpy as np\n",
    "import speech_recognition as sr\n",
    "from sklearn.preprocessing import StandardScaler\n",
    "import re"
   ]
  },
  {
   "cell_type": "code",
   "execution_count": null,
   "id": "19d174aa-cf5a-47db-9510-21797d567a94",
   "metadata": {},
   "outputs": [],
   "source": [
    "log_model = joblib.load('logistic_text_emotion.pkl')\n",
    "xgb_model = joblib.load('xgb_speech_emotion.pkl')\n",
    "\n",
    "vectorizer = joblib.load('tfidf_vectorizer.pkl')\n",
    "scaler = joblib.load('scaler.pkl')\n",
    "label_encoder_text = joblib.load('label_encoder_logistic.pkl')\n",
    "label_encoder_speech = joblib.load('label_encoder.pkl')"
   ]
  },
  {
   "cell_type": "code",
   "execution_count": 3,
   "id": "e68bb979-a4f5-4c5d-8c75-515d3b7eab88",
   "metadata": {},
   "outputs": [],
   "source": [
    "def clean_text(text):\n",
    "    text = text.lower()\n",
    "    text = re.sub(r'\\W', ' ', text)\n",
    "    text = re.sub(r'\\s+', ' ', text).strip()\n",
    "    return text"
   ]
  },
  {
   "cell_type": "code",
   "execution_count": 4,
   "id": "b2fdd016-3811-4198-90e9-823ae5ccae72",
   "metadata": {},
   "outputs": [],
   "source": [
    "def extract_features(file_path):\n",
    "    y, sr = librosa.load(file_path, duration=5)\n",
    "    mfcc = librosa.feature.mfcc(y=y, sr=sr, n_mfcc=13)\n",
    "    return np.mean(mfcc.T, axis=0)  # Compute mean MFCC features\n"
   ]
  },
  {
   "cell_type": "code",
   "execution_count": 5,
   "id": "332a4627-d89e-4216-9015-35626a8a1551",
   "metadata": {},
   "outputs": [],
   "source": [
    "def speech_to_text(audio_path):\n",
    "    recognizer = sr.Recognizer()\n",
    "    with sr.AudioFile(audio_path) as source:\n",
    "        audio_data = recognizer.record(source)\n",
    "    try:\n",
    "        text = recognizer.recognize_google(audio_data)\n",
    "        return text\n",
    "    except sr.UnknownValueError:\n",
    "        return None  # Return None if speech is not recognized\n",
    "    except sr.RequestError:\n",
    "        return None  # Return None if service is unavailable"
   ]
  },
  {
   "cell_type": "code",
   "execution_count": 6,
   "id": "19fd6ec9-76aa-4e47-a821-7ef7bb5925d1",
   "metadata": {},
   "outputs": [],
   "source": [
    "def get_emotion_probabilities(text_emotion, speech_emotion):\n",
    "    emotions = [text_emotion, speech_emotion]\n",
    "    counts = Counter(emotions)\n",
    "    total = sum(counts.values())\n",
    "\n",
    "    prob_text = (counts[text_emotion] / total) * 100\n",
    "    prob_speech = (counts[speech_emotion] / total) * 100\n",
    "\n",
    "    return f\"{text_emotion}: {prob_text:.1f}%, {speech_emotion}: {prob_speech:.1f}%\"\n"
   ]
  },
  {
   "cell_type": "code",
   "execution_count": null,
   "id": "5f55def8-c7a6-47e9-83b4-09e30c191356",
   "metadata": {},
   "outputs": [],
   "source": [
    "def predict_emotion(audio_path):\n",
    "    #  Speech-to-Text\n",
    "    text = speech_to_text(audio_path)\n",
    "    \n",
    "    #  Predict Emotion from Text (KNN)\n",
    "    if text:\n",
    "        text_cleaned = clean_text(text)\n",
    "        text_vectorized = vectorizer.transform([text_cleaned]).toarray()\n",
    "        text_vectorized = scaler.transform(text_vectorized)\n",
    "        text_emotion_index = log_model.predict(text_vectorized)[0]\n",
    "        text_emotion = label_encoder_text.inverse_transform([text_emotion_index])[0]\n",
    "    else:\n",
    "        text_emotion = \"Unknown\"  # Handle case when speech-to-text fails\n",
    "\n",
    "    #  Predict Emotion from Speech (XGBoost)\n",
    "    speech_features = extract_features(audio_path).reshape(1, -1)\n",
    "    speech_emotion_index = xgb_model.predict(speech_features)[0]\n",
    "    speech_emotion = label_encoder_speech.inverse_transform([speech_emotion_index])[0]\n",
    "\n",
    "    #  Combine Results with Probability Calculation\n",
    "    if text_emotion == speech_emotion:\n",
    "        final_emotion = text_emotion  # If both models agree\n",
    "    else:\n",
    "        final_emotion = get_emotion_probabilities(text_emotion, speech_emotion)\n",
    "\n",
    "    print(f\"\\ Predicted Text Emotion: {text_emotion}\")\n",
    "    print(f\"🎤 Predicted Speech Emotion: {speech_emotion}\")\n",
    "    print(f\"✅ Final Emotion: {final_emotion}\")\n",
    "\n",
    "    return final_emotion"
   ]
  },
  {
   "cell_type": "code",
   "execution_count": null,
   "id": "84911761-c853-4e0a-b1df-d578acbe2de7",
   "metadata": {},
   "outputs": [
    {
     "name": "stdout",
     "output_type": "stream",
     "text": [
      "\n",
      " Predicted Text Emotion: Excited\n",
      "Predicted Speech Emotion: calm\n",
      " Final Emotion: Mixed Emotion: Excited (50%) & calm (50%)\n"
     ]
    },
    {
     "data": {
      "text/plain": [
       "'Mixed Emotion: Excited (50%) & calm (50%)'"
      ]
     },
     "execution_count": 22,
     "metadata": {},
     "output_type": "execute_result"
    }
   ],
   "source": [
    "audio_path = r\"D:\\text_emotion - Copy - Copy\\text_emotion\\archive (1)\\Actor_11\\03-01-08-02-01-02-11.wav\" # Replace with actual file path\n",
    "predict_emotion(audio_path)"
   ]
  },
  {
   "cell_type": "code",
   "execution_count": 23,
   "id": "29140b60-8c21-4fc2-9d12-cdc3d2516770",
   "metadata": {},
   "outputs": [
    {
     "ename": "NameError",
     "evalue": "name 'text_emotion' is not defined",
     "output_type": "error",
     "traceback": [
      "\u001b[1;31m---------------------------------------------------------------------------\u001b[0m",
      "\u001b[1;31mNameError\u001b[0m                                 Traceback (most recent call last)",
      "Cell \u001b[1;32mIn[23], line 15\u001b[0m\n\u001b[0;32m     12\u001b[0m     \u001b[38;5;28;01mreturn\u001b[39;00m \u001b[38;5;124mf\u001b[39m\u001b[38;5;124m\"\u001b[39m\u001b[38;5;132;01m{\u001b[39;00mtext_emotion\u001b[38;5;132;01m}\u001b[39;00m\u001b[38;5;124m: \u001b[39m\u001b[38;5;132;01m{\u001b[39;00mprob_text\u001b[38;5;132;01m:\u001b[39;00m\u001b[38;5;124m.1f\u001b[39m\u001b[38;5;132;01m}\u001b[39;00m\u001b[38;5;124m%, \u001b[39m\u001b[38;5;132;01m{\u001b[39;00mspeech_emotion\u001b[38;5;132;01m}\u001b[39;00m\u001b[38;5;124m: \u001b[39m\u001b[38;5;132;01m{\u001b[39;00mprob_speech\u001b[38;5;132;01m:\u001b[39;00m\u001b[38;5;124m.1f\u001b[39m\u001b[38;5;132;01m}\u001b[39;00m\u001b[38;5;124m%\u001b[39m\u001b[38;5;124m\"\u001b[39m\n\u001b[0;32m     14\u001b[0m \u001b[38;5;66;03m# Modify the `predict_emotion` function to use this\u001b[39;00m\n\u001b[1;32m---> 15\u001b[0m \u001b[38;5;28;01mif\u001b[39;00m text_emotion \u001b[38;5;241m==\u001b[39m speech_emotion:\n\u001b[0;32m     16\u001b[0m     final_emotion \u001b[38;5;241m=\u001b[39m text_emotion\n\u001b[0;32m     17\u001b[0m \u001b[38;5;28;01melse\u001b[39;00m:\n",
      "\u001b[1;31mNameError\u001b[0m: name 'text_emotion' is not defined"
     ]
    }
   ],
   "source": [
    "from collections import Counter\n",
    "\n",
    "# Example emotion probabilities (you can tweak based on confidence scores)\n",
    "def get_emotion_probabilities(text_emotion, speech_emotion):\n",
    "    emotions = [text_emotion, speech_emotion]\n",
    "    counts = Counter(emotions)\n",
    "    total = sum(counts.values())\n",
    "    \n",
    "    prob_text = (counts[text_emotion] / total) * 100\n",
    "    prob_speech = (counts[speech_emotion] / total) * 100\n",
    "\n",
    "    return f\"{text_emotion}: {prob_text:.1f}%, {speech_emotion}: {prob_speech:.1f}%\"\n",
    "\n",
    "# Modify the `predict_emotion` function to use this\n",
    "if text_emotion == speech_emotion:\n",
    "    final_emotion = text_emotion\n",
    "else:\n",
    "    final_emotion = get_emotion_probabilities(text_emotion, speech_emotion)\n"
   ]
  },
  {
   "cell_type": "code",
   "execution_count": null,
   "id": "f2975509-67fd-49f8-aec6-d3ec5a00ed9a",
   "metadata": {},
   "outputs": [],
   "source": []
  }
 ],
 "metadata": {
  "kernelspec": {
   "display_name": "Python 3 (ipykernel)",
   "language": "python",
   "name": "python3"
  },
  "language_info": {
   "codemirror_mode": {
    "name": "ipython",
    "version": 3
   },
   "file_extension": ".py",
   "mimetype": "text/x-python",
   "name": "python",
   "nbconvert_exporter": "python",
   "pygments_lexer": "ipython3",
   "version": "3.12.7"
  }
 },
 "nbformat": 4,
 "nbformat_minor": 5
}
